{
 "cells": [
  {
   "cell_type": "code",
   "execution_count": 90,
   "metadata": {},
   "outputs": [],
   "source": [
    "import numpy as np\n",
    "import cv2\n",
    "import tensorflow as tf"
   ]
  },
  {
   "cell_type": "code",
   "execution_count": 91,
   "metadata": {},
   "outputs": [],
   "source": [
    "face_clsfr = cv2.CascadeClassifier('haarcascade_frontalface_default.xml')\n",
    "\n",
    "model = tf.keras.models.load_model('200-100.model')\n",
    "\n",
    "labels_dict={0:'MASK',1:'NO MASK'}\n",
    "color_dict={0:(0,0,0),1:(255,255,255)}"
   ]
  },
  {
   "cell_type": "code",
   "execution_count": 102,
   "metadata": {},
   "outputs": [],
   "source": [
    "source = cv2.VideoCapture(0)\n",
    " \n",
    "while(True):\n",
    "    ret, frame = source.read()\n",
    "    gray = cv2.cvtColor(frame, cv2.COLOR_BGR2GRAY)\n",
    "    faces = face_clsfr.detectMultiScale(gray,1.3,5)\n",
    "    \n",
    "    for (x, y, w, h) in faces:\n",
    "        face_img = gray[y:y + w, x:x + w]\n",
    "        resized = cv2.resize(face_img, (120,120))\n",
    "        normalized = resized / 255.0\n",
    "        reshaped = np.reshape(normalized, (-1,120,120,1))\n",
    "        result = model.predict(reshaped)\n",
    "        label = np.argmax(result,axis=1)[0]\n",
    "        cv2.rectangle(face_img, (0,0), (0+w, 0+h) ,color_dict[label], 2)\n",
    "        cv2.putText(face_img, labels_dict[label], (5, 30), cv2.FONT_HERSHEY_SIMPLEX, 0.7, color_dict[label], 1)\n",
    "        cv2.imshow('frame', gray)\n",
    "\n",
    "    if cv2.waitKey(1) & 0xFF == ord('q'):\n",
    "        break\n",
    "\n",
    "source.release()\n",
    "cv2.destroyAllWindows()"
   ]
  }
 ],
 "metadata": {
  "kernelspec": {
   "display_name": "gputest",
   "language": "python",
   "name": "gputest"
  },
  "language_info": {
   "codemirror_mode": {
    "name": "ipython",
    "version": 3
   },
   "file_extension": ".py",
   "mimetype": "text/x-python",
   "name": "python",
   "nbconvert_exporter": "python",
   "pygments_lexer": "ipython3",
   "version": "3.7.9"
  }
 },
 "nbformat": 4,
 "nbformat_minor": 4
}
