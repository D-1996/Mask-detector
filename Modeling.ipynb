{
 "cells": [
  {
   "cell_type": "code",
   "execution_count": 4,
   "metadata": {},
   "outputs": [],
   "source": [
    "import tensorflow as tf\n",
    "from tensorflow.keras.models import Sequential\n",
    "from tensorflow.keras.layers import Dense, Dropout, Activation, Flatten, Conv2D, MaxPooling2D\n",
    "import numpy as np\n",
    "import pickle\n",
    "from tensorflow.keras.callbacks import TensorBoard\n",
    "from tensorflow.keras.utils import to_categorical\n",
    "import time\n",
    "import os\n",
    "import cv2"
   ]
  },
  {
   "cell_type": "code",
   "execution_count": 5,
   "metadata": {},
   "outputs": [],
   "source": [
    "X = pickle.load(open(\"X.pickle\",\"rb\"))\n",
    "y = pickle.load(open(\"y.pickle\",\"rb\"))\n",
    "X = X/255.0\n",
    "\n",
    "y = to_categorical(y)\n"
   ]
  },
  {
   "cell_type": "code",
   "execution_count": 6,
   "metadata": {
    "scrolled": true
   },
   "outputs": [
    {
     "name": "stdout",
     "output_type": "stream",
     "text": [
      "Train on 921 samples, validate on 455 samples\n",
      "Epoch 1/10\n",
      "921/921 [==============================] - 27s 29ms/sample - loss: 0.7561 - accuracy: 0.5505 - val_loss: 0.6790 - val_accuracy: 0.5099\n",
      "Epoch 2/10\n",
      "921/921 [==============================] - 12s 13ms/sample - loss: 0.5848 - accuracy: 0.6819 - val_loss: 0.4608 - val_accuracy: 0.8132\n",
      "Epoch 3/10\n",
      "921/921 [==============================] - 12s 13ms/sample - loss: 0.3694 - accuracy: 0.8436 - val_loss: 0.4068 - val_accuracy: 0.8088\n",
      "Epoch 4/10\n",
      "921/921 [==============================] - 13s 14ms/sample - loss: 0.2370 - accuracy: 0.9131 - val_loss: 0.2394 - val_accuracy: 0.8989\n",
      "Epoch 5/10\n",
      "921/921 [==============================] - 12s 13ms/sample - loss: 0.1535 - accuracy: 0.9468 - val_loss: 0.2262 - val_accuracy: 0.9033\n",
      "Epoch 6/10\n",
      "921/921 [==============================] - 12s 13ms/sample - loss: 0.1418 - accuracy: 0.9403 - val_loss: 0.1735 - val_accuracy: 0.9297\n",
      "Epoch 7/10\n",
      "921/921 [==============================] - 12s 14ms/sample - loss: 0.1069 - accuracy: 0.9631 - val_loss: 0.1496 - val_accuracy: 0.9429\n",
      "Epoch 8/10\n",
      "921/921 [==============================] - 12s 14ms/sample - loss: 0.0977 - accuracy: 0.9642 - val_loss: 0.1952 - val_accuracy: 0.9253\n",
      "Epoch 9/10\n",
      "921/921 [==============================] - 12s 14ms/sample - loss: 0.0580 - accuracy: 0.9881 - val_loss: 0.2634 - val_accuracy: 0.9121\n",
      "Epoch 10/10\n",
      "921/921 [==============================] - 12s 13ms/sample - loss: 0.0660 - accuracy: 0.9750 - val_loss: 0.1979 - val_accuracy: 0.9231\n"
     ]
    },
    {
     "data": {
      "text/plain": [
       "<tensorflow.python.keras.callbacks.History at 0x224aede2ac8>"
      ]
     },
     "execution_count": 6,
     "metadata": {},
     "output_type": "execute_result"
    }
   ],
   "source": [
    "NAME = 'mask_womask-cnn-200x100-{}'.format(int(time.time()))\n",
    "\n",
    "PATH = os.path.join('logs', NAME)\n",
    "tensorboard = TensorBoard(log_dir = PATH)\n",
    "\n",
    "model = Sequential()\n",
    "\n",
    "model.add(Conv2D(200, (3,3), input_shape = X.shape[1:]))\n",
    "model.add(Activation('relu'))\n",
    "model.add(MaxPooling2D(pool_size = (2,2)))\n",
    "\n",
    "model.add(Conv2D(100, (3,3)))\n",
    "model.add(Activation('relu'))\n",
    "model.add(MaxPooling2D(pool_size = (2,2)))\n",
    "\n",
    "model.add(Flatten())\n",
    "model.add(Dropout(0.5))\n",
    "\n",
    "model.add(Dense(50, activation = 'relu'))\n",
    "#model.add(Activation('relu'))\n",
    "\n",
    "model.add(Dense(2, activation = 'softmax'))\n",
    "#model.add(Activation('relu'))\n",
    "\n",
    "model.compile(loss = 'binary_crossentropy', optimizer = 'adam', metrics = ['accuracy'])\n",
    "model.fit(X, y, epochs = 10, validation_split = 0.33, callbacks = [tensorboard])"
   ]
  },
  {
   "cell_type": "code",
   "execution_count": 7,
   "metadata": {
    "scrolled": true
   },
   "outputs": [
    {
     "name": "stdout",
     "output_type": "stream",
     "text": [
      "WARNING:tensorflow:From C:\\Users\\damia\\anaconda3\\envs\\gputest\\lib\\site-packages\\tensorflow_core\\python\\ops\\resource_variable_ops.py:1786: calling BaseResourceVariable.__init__ (from tensorflow.python.ops.resource_variable_ops) with constraint is deprecated and will be removed in a future version.\n",
      "Instructions for updating:\n",
      "If using Keras pass *_constraint arguments to layers.\n",
      "INFO:tensorflow:Assets written to: 200-100.model\\assets\n"
     ]
    }
   ],
   "source": [
    "model.save('200-100.model')"
   ]
  },
  {
   "cell_type": "code",
   "execution_count": 22,
   "metadata": {},
   "outputs": [],
   "source": [
    "import cv2\n",
    "IMG_SIZE = 120\n",
    "mask = r'C:\\Users\\damia\\anaconda3\\envs\\gputest\\Notebooks\\Face Mask Detection\\test/z1.jpg'\n",
    "womask = r'C:\\Users\\damia\\anaconda3\\envs\\gputest\\Notebooks\\Face Mask Detection\\test/bez1.jpg'\n",
    "def prepare(path):\n",
    "    img_array = cv2.imread(path, cv2.IMREAD_GRAYSCALE)\n",
    "    new_array = cv2.resize(img_array, (IMG_SIZE, IMG_SIZE))\n",
    "    return new_array.reshape(-1, IMG_SIZE, IMG_SIZE, 1)"
   ]
  },
  {
   "cell_type": "code",
   "execution_count": 23,
   "metadata": {},
   "outputs": [
    {
     "data": {
      "text/plain": [
       "array([[0., 1.]], dtype=float32)"
      ]
     },
     "execution_count": 23,
     "metadata": {},
     "output_type": "execute_result"
    }
   ],
   "source": [
    "model.predict([prepare(mask)])"
   ]
  },
  {
   "cell_type": "code",
   "execution_count": 24,
   "metadata": {},
   "outputs": [
    {
     "data": {
      "text/plain": [
       "array([[1., 0.]], dtype=float32)"
      ]
     },
     "execution_count": 24,
     "metadata": {},
     "output_type": "execute_result"
    }
   ],
   "source": [
    "model.predict([prepare(womask)])"
   ]
  }
 ],
 "metadata": {
  "kernelspec": {
   "display_name": "gputest",
   "language": "python",
   "name": "gputest"
  },
  "language_info": {
   "codemirror_mode": {
    "name": "ipython",
    "version": 3
   },
   "file_extension": ".py",
   "mimetype": "text/x-python",
   "name": "python",
   "nbconvert_exporter": "python",
   "pygments_lexer": "ipython3",
   "version": "3.7.9"
  }
 },
 "nbformat": 4,
 "nbformat_minor": 4
}
